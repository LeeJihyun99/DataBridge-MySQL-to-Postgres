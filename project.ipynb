{
 "cells": [
  {
   "cell_type": "code",
   "execution_count": null,
   "id": "88d40623",
   "metadata": {},
   "outputs": [],
   "source": [
    "import psycopg2"
   ]
  },
  {
   "cell_type": "code",
   "execution_count": null,
   "id": "ea270238",
   "metadata": {},
   "outputs": [],
   "source": [
    "def create_database():\n",
    "    \"\"\"\n",
    "    This function creates a new database which new data will be inserted into. \n",
    "    1. create a connection to the local existing database in postgres. \n",
    "    2. create a cursor and create a new database using that cursor. \n",
    "    3. close the connection and the cursor and create a new connection and a new cursor to the new database that was just created.\n",
    "\n",
    "    return: the final connection and the final cursor with which you can execute queries\n",
    "    \"\"\"\n",
    "    \n",
    "    try:\n",
    "        conn = psycopg2.connect('host = localhost dbname = postgres user=postgres password = 1011')\n",
    "    except psycopg2.Error as e:\n",
    "        print(\"could not connect to postgres database\")\n",
    "        print(e)\n",
    "    \n",
    "    try: \n",
    "        cur = conn.cursor()\n",
    "    except psycopg2.Error as e:\n",
    "        print(\"could not create cursor\")\n",
    "        print(e)\n",
    "        \n",
    "    conn.set_session(autocommit=True)\n",
    "    \n",
    "    \n",
    "#     Create a new database and connect to that database\n",
    "\n",
    "    try:\n",
    "        cur.execute(\"CREATE DATABASE project1db\")\n",
    "    except psycopg2.Error as e:\n",
    "        print(\"could not create a database\")\n",
    "        print(e)\n",
    "    \n",
    "    conn.close()\n",
    "    cur.close()\n",
    "    \n",
    "    try:\n",
    "        conn = psycopg2.connect('host = localhost dbname = project1db user=postgres password = 1011')\n",
    "    except psycopg2.Error as e:\n",
    "        print(\"could not connect to postgres database\")\n",
    "        print(e)\n",
    "        \n",
    "    try: \n",
    "        cur = conn.cursor()\n",
    "    except psycopg2.Error as e:\n",
    "        print(\"could not create cursor\")\n",
    "        print(e)\n",
    "        \n",
    "    conn.set_session(autocommit=True)\n",
    "    \n",
    "    return conn, cur"
   ]
  },
  {
   "cell_type": "code",
   "execution_count": null,
   "id": "54352415",
   "metadata": {},
   "outputs": [],
   "source": [
    "conn, cur = create_database()"
   ]
  },
  {
   "cell_type": "code",
   "execution_count": null,
   "id": "fd7e9055",
   "metadata": {},
   "outputs": [],
   "source": [
    "def create_table(cur, tablename, columns_with_datatypes):\n",
    "    \"\"\"\n",
    "    This function creates a table in the database you created with create_database function.\n",
    "    \n",
    "    Paramaters:\n",
    "    cur: the cursor you created which is custed to execute any query\n",
    "    tablename: the name of a new table you will create as a string\n",
    "    (columns_with_datatypes): a string of all the columns with data types respectively\n",
    "    \n",
    "    Example:\n",
    "    >>> create_table(cur, 'example_table', (\"column1 int, column2 varchar\"))\n",
    "    >>> nothing returns, but the table named 'example_table' is created into your database.\n",
    "    \"\"\"\n",
    "                 \n",
    "    try:\n",
    "        cur.execute(f\"CREATE TABLE IF NOT EXISTS {tablename} ({columns_with_datatypes})\")\n",
    "    except psycopg2.Error as e:\n",
    "        print(f\"could not create a table: {tablename}\")\n",
    "        print(e)"
   ]
  },
  {
   "cell_type": "code",
   "execution_count": null,
   "id": "bef973f5",
   "metadata": {},
   "outputs": [],
   "source": [
    "create_table(cur, 'expenditures', ('expenditure_id varchar, household_id varchar, year int, month int, product_code varchar, cost numeric, gift int, is_training int'))"
   ]
  },
  {
   "cell_type": "code",
   "execution_count": null,
   "id": "26d337ea",
   "metadata": {},
   "outputs": [],
   "source": [
    "create_table(cur, 'household_members', ('household_id varchar, year int, marital varchar, sex varchar, age int, work_status varchar'))"
   ]
  },
  {
   "cell_type": "code",
   "execution_count": null,
   "id": "b08f988c",
   "metadata": {},
   "outputs": [],
   "source": [
    "create_table(cur, 'households', ('household_id varchar, year int, income_rank numeric, income_rank_1 numeric, income_rank_2 numeric, income_rank_3 numeric, income_rank_4 numeric, income_rank_5 numeric, income_rank_mean numeric, age_ref int '))"
   ]
  },
  {
   "cell_type": "markdown",
   "id": "74dbf2a3",
   "metadata": {},
   "source": [
    "## Check the csv files with data that you want to insert into your new tables "
   ]
  },
  {
   "cell_type": "code",
   "execution_count": null,
   "id": "6431fc8d",
   "metadata": {},
   "outputs": [],
   "source": [
    "import pandas as pd"
   ]
  },
  {
   "cell_type": "code",
   "execution_count": null,
   "id": "c09ea701",
   "metadata": {},
   "outputs": [],
   "source": [
    "expenditures_df = pd.read_csv('expenditures.csv')\n",
    "expenditures_df.head()"
   ]
  },
  {
   "cell_type": "code",
   "execution_count": null,
   "id": "0ef8fb1a",
   "metadata": {},
   "outputs": [],
   "source": [
    "household_members_df = pd.read_csv('household_members.csv')\n",
    "household_members_df.head()"
   ]
  },
  {
   "cell_type": "code",
   "execution_count": null,
   "id": "61696ef4",
   "metadata": {},
   "outputs": [],
   "source": [
    "households_df = pd.read_csv('households.csv')\n",
    "households_df.head()"
   ]
  },
  {
   "cell_type": "code",
   "execution_count": null,
   "id": "11502249",
   "metadata": {},
   "outputs": [],
   "source": [
    "def lower_column_names(df):\n",
    "    \"\"\"\n",
    "    This function lowers the columns names.\n",
    "    \n",
    "    Paramater:\n",
    "    df: the dataframe you want to lower columns from.\n",
    "    \n",
    "    Example:\n",
    "    example_df has columns COLUMN_1, COLUMN_2\n",
    "    >>> lower_column_names(example_df)\n",
    "    >>> index(['column_1', 'column_2'], dtype='object')\n",
    "    \"\"\"\n",
    "    \n",
    "    lowered_columns = [column.lower() for column in df.columns.tolist()]\n",
    "    df.columns = lowered_columns\n",
    "    return df.columns"
   ]
  },
  {
   "cell_type": "code",
   "execution_count": null,
   "id": "a25aab60",
   "metadata": {},
   "outputs": [],
   "source": [
    "lower_column_names(expenditures_df)"
   ]
  },
  {
   "cell_type": "code",
   "execution_count": null,
   "id": "c6093958",
   "metadata": {},
   "outputs": [],
   "source": [
    "lower_column_names(household_members_df)"
   ]
  },
  {
   "cell_type": "code",
   "execution_count": null,
   "id": "922c912b",
   "metadata": {},
   "outputs": [],
   "source": [
    "lower_column_names(households_df)"
   ]
  },
  {
   "cell_type": "markdown",
   "id": "446bb9ee",
   "metadata": {},
   "source": [
    "## add keys, default values, null values ..etc\n",
    "\n",
    "### Default Values: \n",
    "#### - expenditures: \n",
    "####      - is_training: default value= 1\n",
    "#### - household_members: \n",
    "####     - work_status: default null\n",
    "\n",
    "### Not null:\n",
    "#### all columns except for the ones with default values should not have null values.\n",
    "\n",
    "### Keys:\n",
    "#### - expenditures: primary key=expenditure_id, foreign key= household_id\n",
    "#### - household_members: foreign key= household_id, key(index, btree)= household_id\n",
    "####  - households: primary key= household_id, key(index, btree)=household_id\n",
    "     \n"
   ]
  },
  {
   "cell_type": "code",
   "execution_count": null,
   "id": "82c31bc7",
   "metadata": {},
   "outputs": [],
   "source": [
    "def setDefaultValues(tablename, columnname, defaultValue):\n",
    "     \"\"\"\n",
    "    Sets a default value for a specified column in a PostgreSQL table.\n",
    "\n",
    "    Parameters:\n",
    "    tablename : str\n",
    "        The name of the table in which the column exists.\n",
    "        \n",
    "    columnname : str\n",
    "        The name of the column to set the default value for.\n",
    "        \n",
    "    defaultValue : str, int, float, etc.\n",
    "        The default value to be assigned to the column when no explicit value is provided.\n",
    "        The type of `defaultValue` should be compatible with the column's data type.\n",
    "\n",
    "    Returns:\n",
    "    None\n",
    "        This function does not return a value. If an error occurs during the operation, \n",
    "        it will be caught and printed.\n",
    "\n",
    "    Notes:\n",
    "    - The `DEFAULT` constraint ensures that if no value is provided during an insert operation, \n",
    "      the specified default value is automatically used.\n",
    "    - Ensure that the default value is appropriate for the column's data type (e.g., a string \n",
    "      for a text column, or a number for an integer column).\n",
    "    - This function only sets the default for future insertions. Existing rows will not be updated \n",
    "      with the default value.\n",
    "    - Any `psycopg2.Error` encountered will be printed for debugging.\n",
    "\n",
    "    Example:\n",
    "    >>> setDefaultValues('households', 'region', \"'North America'\")\n",
    "    \"\"\"\n",
    "    try:\n",
    "        cur.execute(f'ALTER TABLE {tablename} ALTER COLUMN {columnname} SET DEFAULT {defaultValue}')\n",
    "    except psycopg2.Error as e:\n",
    "        print(e)"
   ]
  },
  {
   "cell_type": "code",
   "execution_count": null,
   "id": "282ca316",
   "metadata": {},
   "outputs": [],
   "source": [
    "setDefaultValues('expenditures', 'is_training', '1')"
   ]
  },
  {
   "cell_type": "code",
   "execution_count": null,
   "id": "f9ba8db8",
   "metadata": {},
   "outputs": [],
   "source": [
    "setDefaultValues('household_members', 'work_status', 'NULL')"
   ]
  },
  {
   "cell_type": "code",
   "execution_count": null,
   "id": "63ff1ce8",
   "metadata": {},
   "outputs": [],
   "source": [
    "def setNotNull(tablename, columnname):\n",
    "    \"\"\"\n",
    "    Sets a NOT NULL constraint on a specified column in a PostgreSQL table, ensuring that\n",
    "    the column cannot contain null values.\n",
    "\n",
    "    Parameters:\n",
    "    tablename : str\n",
    "        The name of the table in which the column exists.\n",
    "        \n",
    "    columnname : str\n",
    "        The name of the column to enforce the NOT NULL constraint on.\n",
    "\n",
    "    Returns:\n",
    "    None\n",
    "        This function does not return a value. If an error occurs, it will be caught and\n",
    "        printed for debugging.\n",
    "\n",
    "    Notes:\n",
    "    - The NOT NULL constraint enforces that all entries in the specified column have a value.\n",
    "    - Applying NOT NULL to a column with existing null values will cause an error. Ensure that\n",
    "      the column has no nulls before running this command or handle the null values as needed.\n",
    "    - Any `psycopg2.Error` encountered will be printed.\n",
    "\n",
    "    Example:\n",
    "    >>> setNotNull('households', 'household_id')\n",
    "    \"\"\"\n",
    "    try:\n",
    "        cur.execute(f\"ALTER TABLE {tablename} ALTER COLUMN {columnname} SET NOT NULL\")\n",
    "    except psycopg2.Error as e:\n",
    "        print(e)"
   ]
  },
  {
   "cell_type": "code",
   "execution_count": null,
   "id": "f32a5c5f",
   "metadata": {},
   "outputs": [],
   "source": [
    "# setNotNull('expenditures', 'expenditure_id')\n",
    "setNotNull('expenditures', 'household_id')\n",
    "setNotNull('expenditures', 'year')\n",
    "setNotNull('expenditures', 'month')\n",
    "setNotNull('expenditures', 'product_code')\n",
    "setNotNull('expenditures', 'cost')\n",
    "setNotNull('expenditures', 'gift')"
   ]
  },
  {
   "cell_type": "code",
   "execution_count": null,
   "id": "de2cec13",
   "metadata": {},
   "outputs": [],
   "source": [
    "setNotNull('household_members', 'household_id')\n",
    "setNotNull('household_members', 'year')\n",
    "setNotNull('household_members', 'marital')\n",
    "setNotNull('household_members', 'sex')\n",
    "setNotNull('household_members', 'age')"
   ]
  },
  {
   "cell_type": "code",
   "execution_count": null,
   "id": "78541ce2",
   "metadata": {},
   "outputs": [],
   "source": [
    "# setNotNull('households', 'household_id')\n",
    "setNotNull('households', 'year')\n",
    "setNotNull('households', 'income_rank')\n",
    "setNotNull('households', 'income_rank_1')\n",
    "setNotNull('households', 'income_rank_2')\n",
    "setNotNull('households', 'income_rank_3')\n",
    "setNotNull('households', 'income_rank_4')\n",
    "setNotNull('households', 'income_rank_5')\n",
    "setNotNull('households', 'income_rank_mean')\n",
    "setNotNull('households', 'age_ref')"
   ]
  },
  {
   "cell_type": "code",
   "execution_count": null,
   "id": "6ae46104",
   "metadata": {},
   "outputs": [],
   "source": [
    "# By default, PostgreSQL uses the format table-name_pkey as the default name for the primary key constraint.\n",
    "def setPrimaryKeys(tablename, columnname):\n",
    "    \"\"\"\n",
    "    Sets a primary key constraint on a specified column in a PostgreSQL table.\n",
    "\n",
    "    Parameters:\n",
    "    tablename : str\n",
    "        The name of the table where the primary key constraint will be added.\n",
    "        \n",
    "    columnname : str\n",
    "        The name of the column to be designated as the primary key.\n",
    "\n",
    "    Returns:\n",
    "    None\n",
    "        This function does not return a value. It executes an SQL command to add a primary key \n",
    "        constraint on the specified column.\n",
    "\n",
    "    Notes:\n",
    "    - By default, PostgreSQL names the primary key constraint in the format `{tablename}_pkey`.\n",
    "    - Primary keys enforce uniqueness and ensure that no null values are allowed in the specified column.\n",
    "    - Ensure that the column specified is suitable as a primary key (unique, non-nullable).\n",
    "    - An error may occur if a primary key already exists on the table or if duplicate values are \n",
    "      present in the column. This should be handled based on the specific requirements of the \n",
    "      table design.\n",
    "\n",
    "    Example:\n",
    "    >>> setPrimaryKeys('households', 'household_id')\n",
    "    \"\"\"\n",
    "    try:\n",
    "        cur.execute(f\"ALTER TABLE {tablename} ADD CONSTRAINT PRIMARY KEY ({columnname})\")\n",
    "    except psycopg2.Error as e:\n",
    "        print(e)"
   ]
  },
  {
   "cell_type": "code",
   "execution_count": null,
   "id": "e872fb40",
   "metadata": {},
   "outputs": [],
   "source": [
    "setPrimaryKeys('expenditures', 'expenditure_id')"
   ]
  },
  {
   "cell_type": "code",
   "execution_count": null,
   "id": "427fb0e6",
   "metadata": {},
   "outputs": [],
   "source": [
    "setPrimaryKeys('households', 'household_id')"
   ]
  },
  {
   "cell_type": "code",
   "execution_count": null,
   "id": "204ce86f",
   "metadata": {},
   "outputs": [],
   "source": [
    "def setForiegnKeys(tablename, columnname, reference_tablename, reference_columnname):\n",
    "    cur.execute(f\"ALTER TABLE {tablename} ADD FOREIGN KEY ({columnname}) REFERENCES {reference_tablename}({reference_columnname})\")"
   ]
  },
  {
   "cell_type": "code",
   "execution_count": null,
   "id": "25446db6",
   "metadata": {},
   "outputs": [],
   "source": [
    "setForiegnKeys('expenditures', 'household_id', 'households', 'household_id')"
   ]
  },
  {
   "cell_type": "code",
   "execution_count": null,
   "id": "f1fd8fa5",
   "metadata": {},
   "outputs": [],
   "source": [
    "setForiegnKeys('household_members', 'household_id', 'households', 'household_id')"
   ]
  },
  {
   "cell_type": "code",
   "execution_count": null,
   "id": "28d3bc39",
   "metadata": {},
   "outputs": [],
   "source": [
    "# By default, PostgreSQL creates a B-tree index.\n",
    "def createIndex(tablename, columnname):\n",
    "    \"\"\"\n",
    "    Creates an index on a specified column in a PostgreSQL table to improve query performance.\n",
    "\n",
    "    Parameters:\n",
    "    tablename : str\n",
    "        The name of the table on which the index will be created.\n",
    "        \n",
    "    columnname : str\n",
    "        The name of the column to index within the specified table.\n",
    "\n",
    "    Returns:\n",
    "    None\n",
    "        This function does not return a value. It executes an SQL command to create an index\n",
    "        on the specified column.\n",
    "\n",
    "    Notes:\n",
    "    - Indexing can improve the performance of queries that frequently search or filter by\n",
    "      the specified column.\n",
    "    - The naming convention for the index is `{tablename}_index`, which helps keep index names\n",
    "      unique and identifiable.\n",
    "    - Consider the performance trade-offs with indexing, as it may slow down insertions and\n",
    "      updates on large tables.\n",
    "\n",
    "    Example:\n",
    "    >>> createIndex('households', 'household_id')\n",
    "    \"\"\"\n",
    "    try:\n",
    "        cur.execute(f\"CREATE INDEX {tablename}_index ON {tablename}({columnname})\")\n",
    "    except psycopg2.Error as e:\n",
    "        print(e)"
   ]
  },
  {
   "cell_type": "code",
   "execution_count": null,
   "id": "c3ea9e32",
   "metadata": {},
   "outputs": [],
   "source": [
    "createIndex('household_members', 'household_id')"
   ]
  },
  {
   "cell_type": "code",
   "execution_count": null,
   "id": "c3306ce0",
   "metadata": {},
   "outputs": [],
   "source": [
    "createIndex('households', 'household_id')"
   ]
  },
  {
   "cell_type": "markdown",
   "id": "eef039d9",
   "metadata": {},
   "source": [
    "## Check configurations by inserting sample values\n",
    "### we need to insert values in households first since the other two tables reference household table."
   ]
  },
  {
   "cell_type": "code",
   "execution_count": null,
   "id": "11308e08",
   "metadata": {},
   "outputs": [],
   "source": [
    "try:\n",
    "    cur.execute(\"INSERT INTO households VALUES ('3111041', '2015', '0.304403', '0.144808', '0.142726', '0.143244', '0.14218','0.138187','0.126976','66')\")\n",
    "except psycopg2.Error as e:\n",
    "    print(e)"
   ]
  },
  {
   "cell_type": "markdown",
   "id": "19003a8c",
   "metadata": {},
   "source": [
    "## Check default value (is_training should be set to 1 if no value is given)"
   ]
  },
  {
   "cell_type": "code",
   "execution_count": null,
   "id": "bbee4b66",
   "metadata": {},
   "outputs": [],
   "source": [
    "try:\n",
    "    cur.execute(\"INSERT INTO expenditures VALUES ('1', '3111041', '2015', '1', '10210', '3.89', '0')\")\n",
    "except psycopg2.Error as e:\n",
    "    print(e)"
   ]
  },
  {
   "cell_type": "code",
   "execution_count": null,
   "id": "f256eeee",
   "metadata": {},
   "outputs": [],
   "source": [
    "try:\n",
    "    cur.execute(\"SELECT * FROM expenditures\")\n",
    "except psycopg2.Error as e:\n",
    "    print(e)\n",
    "\n",
    "cur.fetchall()"
   ]
  },
  {
   "cell_type": "markdown",
   "id": "390b0016",
   "metadata": {},
   "source": [
    "# Check default value ( work_status should be set to NULL if no value is given)"
   ]
  },
  {
   "cell_type": "code",
   "execution_count": null,
   "id": "7f2ddfc3",
   "metadata": {},
   "outputs": [],
   "source": [
    "try:\n",
    "    cur.execute(\"INSERT INTO household_members VALUES ('3111041', '2015', '1', '1', '66')\")\n",
    "except psycopg2.Error as e:\n",
    "    print(e)"
   ]
  },
  {
   "cell_type": "code",
   "execution_count": null,
   "id": "5c6c74a5",
   "metadata": {},
   "outputs": [],
   "source": [
    "try:\n",
    "    cur.execute(\"SELECT * FROM household_members\")\n",
    "except psycopg2.Error as e:\n",
    "    print(e)\n",
    "\n",
    "cur.fetchall()"
   ]
  },
  {
   "cell_type": "code",
   "execution_count": null,
   "id": "0215fa4a",
   "metadata": {},
   "outputs": [],
   "source": [
    "def deleteAll(tablename):\n",
    "    \"\"\"\n",
    "    Deletes all rows from the specified PostgreSQL table.\n",
    "\n",
    "    Parameters:\n",
    "    tablename : str\n",
    "        The name of the table from which all rows will be deleted.\n",
    "        \n",
    "    Returns:\n",
    "    None\n",
    "        This function does not return a value. Any errors encountered during deletion\n",
    "        are caught and printed.\n",
    "\n",
    "    Notes:\n",
    "    - Deletion order is crucial if foreign key constraints are in place. To avoid\n",
    "      foreign key violations, ensure that tables are deleted in a sequence where \n",
    "      referencing tables are cleared before tables they reference.\n",
    "    - This function should be used carefully in production environments, as it will \n",
    "      remove all data from the specified table.\n",
    "    - Any `psycopg2.Error` encountered will be printed for debugging purposes.\n",
    "\n",
    "    Example:\n",
    "    >>> deleteAll('household_members')\n",
    "    \"\"\"\n",
    "    \n",
    "    try: \n",
    "        cur.execute(f\"DELETE FROM {tablename}\")\n",
    "    except psycopg2.Error as e:\n",
    "        print(e)"
   ]
  },
  {
   "cell_type": "code",
   "execution_count": null,
   "id": "55ac371c",
   "metadata": {},
   "outputs": [],
   "source": [
    "deleteAll('expenditures')\n",
    "deleteAll('household_members')\n",
    "deleteAll('households')"
   ]
  },
  {
   "cell_type": "markdown",
   "id": "f6f1fead",
   "metadata": {},
   "source": [
    "## Insert all data from csv files into tables "
   ]
  },
  {
   "cell_type": "code",
   "execution_count": null,
   "id": "1834ba0c",
   "metadata": {},
   "outputs": [],
   "source": [
    "import psycopg2.extras as extras "
   ]
  },
  {
   "cell_type": "code",
   "execution_count": null,
   "id": "5374be1e",
   "metadata": {},
   "outputs": [],
   "source": [
    "def insertValues(tablename, df):\n",
    "        \"\"\"\n",
    "    Inserts values from a Pandas DataFrame into a specified PostgreSQL table.\n",
    "\n",
    "    Parameters:\n",
    "    tablename : str\n",
    "        The name of the PostgreSQL table where data will be inserted.\n",
    "        \n",
    "    df : pandas.DataFrame\n",
    "        The DataFrame containing the data to insert into the table. Each row in\n",
    "        the DataFrame represents a row to insert, and each column corresponds to\n",
    "        a column in the database table.\n",
    "\n",
    "    Returns:\n",
    "    None\n",
    "        This function does not return a value. If an error occurs during insertion,\n",
    "        it will be caught and printed.\n",
    "\n",
    "    Notes:\n",
    "    - This function converts the DataFrame into a list of tuples, matching the row structure\n",
    "      of the table.\n",
    "    - The function uses `psycopg2.extras.execute_values` for efficient bulk insertion.\n",
    "    - If a `psycopg2.Error` is encountered, the error message will be printed.\n",
    "      \n",
    "    Example:\n",
    "    >>> insertValues('my_table', df)\n",
    "    \"\"\"\n",
    "        \n",
    "    tuples = [tuple(x) for x in df.to_numpy()]\n",
    "    cols = ','.join(list(df.columns))\n",
    "    query = \"INSERT INTO %s(%s) VALUES %%s\" %(tablename, cols)\n",
    "    \n",
    "    try:\n",
    "        extras.execute_values(cur, query, tuples)\n",
    "    except psycopg2.Error as e:\n",
    "        print(e)"
   ]
  },
  {
   "cell_type": "code",
   "execution_count": null,
   "id": "6733bbc1",
   "metadata": {},
   "outputs": [],
   "source": [
    "insertValues('households', households_df)"
   ]
  },
  {
   "cell_type": "code",
   "execution_count": null,
   "id": "a7c06255",
   "metadata": {},
   "outputs": [],
   "source": [
    "# insertValues('expenditures', expenditures_df)"
   ]
  },
  {
   "cell_type": "code",
   "execution_count": null,
   "id": "62c20c33",
   "metadata": {},
   "outputs": [],
   "source": [
    "# insertValues('household_members', household_members_df)"
   ]
  },
  {
   "cell_type": "markdown",
   "id": "2e93b149",
   "metadata": {},
   "source": [
    "## Error: There are household_id from expenditure_df that don't exist in households_df. These need to be removed. (How we handle those values depends on the business needs. Alternatively, we could add that household_id into households table if that cannot be removed)."
   ]
  },
  {
   "cell_type": "code",
   "execution_count": null,
   "id": "2ee2cf0a",
   "metadata": {},
   "outputs": [],
   "source": [
    "household_ids_to_remove_from_expenditures = set(expenditures_df['household_id']).difference(households_df['household_id'])"
   ]
  },
  {
   "cell_type": "code",
   "execution_count": null,
   "id": "4c916270",
   "metadata": {},
   "outputs": [],
   "source": [
    "household_ids_to_remove_from_household_members = set(household_members_df['household_id']).difference(households_df['household_id'])"
   ]
  },
  {
   "cell_type": "code",
   "execution_count": null,
   "id": "020f6ff5",
   "metadata": {},
   "outputs": [],
   "source": [
    "expenditures_df = expenditures_df.loc[~expenditures_df['household_id'].isin(household_ids_to_remove_from_expenditures)]"
   ]
  },
  {
   "cell_type": "code",
   "execution_count": null,
   "id": "8fc1ea14",
   "metadata": {},
   "outputs": [],
   "source": [
    "household_members_df = household_members_df.loc[~household_members_df['household_id'].isin(household_ids_to_remove_from_household_members)]"
   ]
  },
  {
   "cell_type": "code",
   "execution_count": null,
   "id": "70037dd4",
   "metadata": {},
   "outputs": [],
   "source": [
    "expenditures_df"
   ]
  },
  {
   "cell_type": "code",
   "execution_count": null,
   "id": "d45cd2ee",
   "metadata": {},
   "outputs": [],
   "source": [
    "(~expenditures_df['household_id'].isin(household_ids_to_remove_from_expenditures)).sum()"
   ]
  },
  {
   "cell_type": "code",
   "execution_count": null,
   "id": "26a63b2e",
   "metadata": {},
   "outputs": [],
   "source": [
    "(~household_members_df['household_id'].isin(household_ids_to_remove_from_household_members)).sum()"
   ]
  },
  {
   "cell_type": "markdown",
   "id": "eae1abe0",
   "metadata": {},
   "source": [
    "### You go back to insertValues part and execute that function for expenditures and household_members tables and check if the number of rows inserted are correct. \n",
    "\n",
    "### expenditures: 9 rows\n",
    "### household_members: 292 rows"
   ]
  },
  {
   "cell_type": "code",
   "execution_count": null,
   "id": "b3c3b6d0",
   "metadata": {},
   "outputs": [],
   "source": [
    "try:\n",
    "    cur.execute(\"SELECT COUNT(*) FROM expenditures\")\n",
    "except psycopg2.Error as e:\n",
    "    print(e)"
   ]
  },
  {
   "cell_type": "code",
   "execution_count": null,
   "id": "38388327",
   "metadata": {},
   "outputs": [],
   "source": [
    "cur.fetchall()"
   ]
  },
  {
   "cell_type": "code",
   "execution_count": null,
   "id": "3bc2c1c4",
   "metadata": {},
   "outputs": [],
   "source": [
    "try:\n",
    "    cur.execute(\"SELECT COUNT(*) FROM household_members\")\n",
    "except psycopg2.Error as e:\n",
    "    print(e)"
   ]
  },
  {
   "cell_type": "code",
   "execution_count": null,
   "id": "a8adbb0d",
   "metadata": {},
   "outputs": [],
   "source": [
    "cur.fetchall()"
   ]
  },
  {
   "cell_type": "code",
   "execution_count": null,
   "id": "b3042135",
   "metadata": {},
   "outputs": [],
   "source": [
    "cur.close()\n",
    "conn.close()"
   ]
  }
 ],
 "metadata": {
  "kernelspec": {
   "display_name": "Python 3 (ipykernel)",
   "language": "python",
   "name": "python3"
  },
  "language_info": {
   "codemirror_mode": {
    "name": "ipython",
    "version": 3
   },
   "file_extension": ".py",
   "mimetype": "text/x-python",
   "name": "python",
   "nbconvert_exporter": "python",
   "pygments_lexer": "ipython3",
   "version": "3.9.13"
  }
 },
 "nbformat": 4,
 "nbformat_minor": 5
}
